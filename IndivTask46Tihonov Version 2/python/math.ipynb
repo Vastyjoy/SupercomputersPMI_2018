{
 "cells": [
  {
   "cell_type": "code",
   "execution_count": 1,
   "metadata": {
    "collapsed": false
   },
   "outputs": [],
   "source": [
    "def cellCoords(row, col, blockSize = 2, matrixSize = 6):\n",
    "    return (row // blockSize, col // blockSize)\n",
    "    \n",
    "\n",
    "def numberByCoordinates(row, col, blockSize = 2, matrixSize = 6):\n",
    "    blockLinearCount = matrixSize // blockSize\n",
    "    blockCapacity = blockSize ** 2\n",
    "    \n",
    "    blockY, blockX = cellCoords(row, col, blockSize = blockSize, matrixSize = matrixSize)\n",
    "    \n",
    "    innerNumber = (row % blockSize) * blockSize + (col % blockSize)\n",
    "    outerNumber = blockX * (2 * blockLinearCount - (blockX - 1)) / 2 + (blockY - blockX)\n",
    "    \n",
    "    return innerNumber + outerNumber * blockCapacity"
   ]
  },
  {
   "cell_type": "code",
   "execution_count": 2,
   "metadata": {
    "collapsed": false
   },
   "outputs": [],
   "source": [
    "answers = [\n",
    "    (0, 0, 0),\n",
    "    (0, 1, 1),\n",
    "    (1, 0, 2),\n",
    "    (1, 1, 3),\n",
    "    (2, 0, 4),\n",
    "    (4, 4, 20)\n",
    "]\n",
    "\n",
    "for a in answers:\n",
    "    if(numberByCoordinates(a[0], a[1]) != a[2]):\n",
    "        print(a[2], 'at (', str(a[0]) + ', ' + str(a[1]), ') !=', numberByCoordinates(a[0], a[1]))"
   ]
  },
  {
   "cell_type": "code",
   "execution_count": 6,
   "metadata": {
    "collapsed": false
   },
   "outputs": [],
   "source": []
  },
  {
   "cell_type": "code",
   "execution_count": 7,
   "metadata": {
    "collapsed": false
   },
   "outputs": [],
   "source": []
  },
  {
   "cell_type": "code",
   "execution_count": null,
   "metadata": {
    "collapsed": true
   },
   "outputs": [],
   "source": []
  }
 ],
 "metadata": {
  "kernelspec": {
   "display_name": "Python 3",
   "language": "python",
   "name": "python3"
  },
  "language_info": {
   "codemirror_mode": {
    "name": "ipython",
    "version": 3
   },
   "file_extension": ".py",
   "mimetype": "text/x-python",
   "name": "python",
   "nbconvert_exporter": "python",
   "pygments_lexer": "ipython3",
   "version": "3.6.0"
  }
 },
 "nbformat": 4,
 "nbformat_minor": 2
}
